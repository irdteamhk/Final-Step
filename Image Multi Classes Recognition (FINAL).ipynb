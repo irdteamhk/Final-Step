{
 "cells": [
  {
   "cell_type": "markdown",
   "metadata": {},
   "source": [
    "### Import Packages"
   ]
  },
  {
   "cell_type": "code",
   "execution_count": 2,
   "metadata": {
    "executionInfo": {
     "elapsed": 3028,
     "status": "ok",
     "timestamp": 1638630414657,
     "user": {
      "displayName": "Todd Wong",
      "photoUrl": "https://lh3.googleusercontent.com/a/default-user=s64",
      "userId": "03494286582269224603"
     },
     "user_tz": -480
    },
    "id": "zOV5AsKRRvxd"
   },
   "outputs": [
    {
     "name": "stderr",
     "output_type": "stream",
     "text": [
      "Using TensorFlow backend.\n"
     ]
    }
   ],
   "source": [
    "import os\n",
    "import pandas as pd\n",
    "import numpy as np\n",
    "import matplotlib.pyplot as plt\n",
    "from keras.preprocessing.image import ImageDataGenerator, load_img\n",
    "from sklearn.model_selection import train_test_split\n",
    "from sklearn.metrics import accuracy_score\n",
    "from sklearn.metrics import confusion_matrix\n",
    "from tensorflow.keras.metrics import categorical_crossentropy\n",
    "from tensorflow.keras.models import Sequential, Model\n",
    "from tensorflow.keras.layers import Dense, Dropout, Flatten\n",
    "from tensorflow.keras.layers import Conv2D, MaxPooling2D"
   ]
  },
  {
   "cell_type": "code",
   "execution_count": 3,
   "metadata": {
    "executionInfo": {
     "elapsed": 237,
     "status": "ok",
     "timestamp": 1638630488123,
     "user": {
      "displayName": "Todd Wong",
      "photoUrl": "https://lh3.googleusercontent.com/a/default-user=s64",
      "userId": "03494286582269224603"
     },
     "user_tz": -480
    },
    "id": "N5BnMjIpRvxl"
   },
   "outputs": [],
   "source": [
    "train_dataset = 'train'\n",
    "val_dataset = 'test'\n",
    "labels = ['0','1','2','3','4','5']"
   ]
  },
  {
   "cell_type": "markdown",
   "metadata": {},
   "source": [
    "### Load Data and Convert to dataframe for further use"
   ]
  },
  {
   "cell_type": "code",
   "execution_count": 4,
   "metadata": {
    "executionInfo": {
     "elapsed": 237,
     "status": "ok",
     "timestamp": 1638630503311,
     "user": {
      "displayName": "Todd Wong",
      "photoUrl": "https://lh3.googleusercontent.com/a/default-user=s64",
      "userId": "03494286582269224603"
     },
     "user_tz": -480
    },
    "id": "I046raNxRvxl"
   },
   "outputs": [],
   "source": [
    "def imageLabelling(dataset,labels):\n",
    "    filename_list =[]\n",
    "    label_list = []\n",
    "    for label in labels:\n",
    "        folder ='{}/{}/'.format(dataset,label)\n",
    "        print(folder)\n",
    "        files = os.listdir(folder)\n",
    "        for file in files:\n",
    "            if file != '.DS_Store':\n",
    "                filename_list.append(file)\n",
    "                label_list.append(label)\n",
    "        print(\"Checking if .DS_Store exists: {} \".format('.DS_Store' in filename_list))\n",
    "        print(\"\\n\")\n",
    "    return filename_list, label_list\n"
   ]
  },
  {
   "cell_type": "code",
   "execution_count": 5,
   "metadata": {
    "id": "ZE7v1ETRTm-U"
   },
   "outputs": [],
   "source": [
    "def convertToDataFrame(image_list, label_list):\n",
    "    image_series = pd.Series(image_list, name='filenames')\n",
    "    label_series = pd.Series(label_list, name='labels')\n",
    "    df=pd.concat([image_series,label_series], axis=1)\n",
    "    return df"
   ]
  },
  {
   "cell_type": "code",
   "execution_count": 6,
   "metadata": {
    "colab": {
     "base_uri": "https://localhost:8080/"
    },
    "executionInfo": {
     "elapsed": 278,
     "status": "ok",
     "timestamp": 1638630534491,
     "user": {
      "displayName": "Todd Wong",
      "photoUrl": "https://lh3.googleusercontent.com/a/default-user=s64",
      "userId": "03494286582269224603"
     },
     "user_tz": -480
    },
    "id": "FJUlgVITRvxm",
    "outputId": "c3ed54a2-32d5-41a0-a0d3-d7f0490d9d38"
   },
   "outputs": [
    {
     "name": "stdout",
     "output_type": "stream",
     "text": [
      "train/0/\n",
      "Checking if .DS_Store exists: False \n",
      "\n",
      "\n",
      "train/1/\n",
      "Checking if .DS_Store exists: False \n",
      "\n",
      "\n",
      "train/2/\n",
      "Checking if .DS_Store exists: False \n",
      "\n",
      "\n",
      "train/3/\n",
      "Checking if .DS_Store exists: False \n",
      "\n",
      "\n",
      "train/4/\n",
      "Checking if .DS_Store exists: False \n",
      "\n",
      "\n",
      "train/5/\n",
      "Checking if .DS_Store exists: False \n",
      "\n",
      "\n"
     ]
    }
   ],
   "source": [
    "train_filename_list, train_label_list = imageLabelling(train_dataset,labels)\n",
    "train_df = convertToDataFrame(train_filename_list, train_label_list)"
   ]
  },
  {
   "cell_type": "code",
   "execution_count": 7,
   "metadata": {
    "colab": {
     "base_uri": "https://localhost:8080/"
    },
    "executionInfo": {
     "elapsed": 254,
     "status": "ok",
     "timestamp": 1638630552300,
     "user": {
      "displayName": "Todd Wong",
      "photoUrl": "https://lh3.googleusercontent.com/a/default-user=s64",
      "userId": "03494286582269224603"
     },
     "user_tz": -480
    },
    "id": "Wo7oC-LLRvxn",
    "outputId": "420d799e-179a-48f5-ec85-a325bb91cd64"
   },
   "outputs": [
    {
     "name": "stdout",
     "output_type": "stream",
     "text": [
      "test/0/\n",
      "Checking if .DS_Store exists: False \n",
      "\n",
      "\n",
      "test/1/\n",
      "Checking if .DS_Store exists: False \n",
      "\n",
      "\n",
      "test/2/\n",
      "Checking if .DS_Store exists: False \n",
      "\n",
      "\n",
      "test/3/\n",
      "Checking if .DS_Store exists: False \n",
      "\n",
      "\n",
      "test/4/\n",
      "Checking if .DS_Store exists: False \n",
      "\n",
      "\n",
      "test/5/\n",
      "Checking if .DS_Store exists: False \n",
      "\n",
      "\n"
     ]
    }
   ],
   "source": [
    "val_filename_list, val_label_list = imageLabelling(val_dataset,labels)\n",
    "val_df = convertToDataFrame(val_filename_list, val_label_list)"
   ]
  },
  {
   "cell_type": "markdown",
   "metadata": {},
   "source": [
    "### Image Augmentation and direct to Generator"
   ]
  },
  {
   "cell_type": "code",
   "execution_count": 9,
   "metadata": {
    "executionInfo": {
     "elapsed": 252,
     "status": "ok",
     "timestamp": 1638630606337,
     "user": {
      "displayName": "Todd Wong",
      "photoUrl": "https://lh3.googleusercontent.com/a/default-user=s64",
      "userId": "03494286582269224603"
     },
     "user_tz": -480
    },
    "id": "McCY3gpYRvxo"
   },
   "outputs": [],
   "source": [
    "def create_generator(train_dataset, val_dataset):\n",
    "    train_imageAug = ImageDataGenerator(\n",
    "                       rescale=1/255.0, \n",
    "                       featurewise_center=True,\n",
    "                       featurewise_std_normalization=True, \n",
    "                       rotation_range=40,\n",
    "                       width_shift_range=0.2,\n",
    "                       height_shift_range=0.2,\n",
    "                       horizontal_flip=True,\n",
    "                       shear_range=0.2)\n",
    "\n",
    "    val_imageAug = ImageDataGenerator(rescale=1/255.0)\n",
    "    \n",
    "    training_generator = train_imageAug.flow_from_directory(\n",
    "                                 train_dataset,\n",
    "                                 target_size = (150,150),\n",
    "                                 classes = labels,\n",
    "                                 class_mode = 'categorical')\n",
    "    \n",
    "    val_generator = val_imageAug.flow_from_directory(\n",
    "                              val_dataset,\n",
    "                              target_size = (150,150),\n",
    "                              classes = labels,\n",
    "                              class_mode = 'categorical')\n",
    "\n",
    "                                                        \n",
    "    return training_generator, val_generator"
   ]
  },
  {
   "cell_type": "code",
   "execution_count": 10,
   "metadata": {
    "colab": {
     "base_uri": "https://localhost:8080/"
    },
    "executionInfo": {
     "elapsed": 1374,
     "status": "ok",
     "timestamp": 1638630617006,
     "user": {
      "displayName": "Todd Wong",
      "photoUrl": "https://lh3.googleusercontent.com/a/default-user=s64",
      "userId": "03494286582269224603"
     },
     "user_tz": -480
    },
    "id": "vcAvPjvSRvxp",
    "outputId": "b509822b-5b98-49c5-99c9-0d9a4c58bacb"
   },
   "outputs": [
    {
     "name": "stdout",
     "output_type": "stream",
     "text": [
      "Found 13953 images belonging to 6 classes.\n",
      "Found 3000 images belonging to 6 classes.\n"
     ]
    }
   ],
   "source": [
    "train_generator, val_generator = create_generator(train_dataset, val_dataset)"
   ]
  },
  {
   "cell_type": "markdown",
   "metadata": {},
   "source": [
    "### Model Building\n",
    "#### 1) From Scratch"
   ]
  },
  {
   "cell_type": "code",
   "execution_count": 11,
   "metadata": {
    "executionInfo": {
     "elapsed": 259,
     "status": "ok",
     "timestamp": 1638630625167,
     "user": {
      "displayName": "Todd Wong",
      "photoUrl": "https://lh3.googleusercontent.com/a/default-user=s64",
      "userId": "03494286582269224603"
     },
     "user_tz": -480
    },
    "id": "rrNKAlMnRvxq"
   },
   "outputs": [],
   "source": [
    "epochs = 10\n",
    "input_shape = (150,150,3)"
   ]
  },
  {
   "cell_type": "code",
   "execution_count": 12,
   "metadata": {
    "colab": {
     "base_uri": "https://localhost:8080/"
    },
    "executionInfo": {
     "elapsed": 879,
     "status": "ok",
     "timestamp": 1638630648567,
     "user": {
      "displayName": "Todd Wong",
      "photoUrl": "https://lh3.googleusercontent.com/a/default-user=s64",
      "userId": "03494286582269224603"
     },
     "user_tz": -480
    },
    "id": "wdANEPoERvxq",
    "outputId": "2752356a-40e9-4c2a-a93c-f314fcfcbb20"
   },
   "outputs": [
    {
     "name": "stdout",
     "output_type": "stream",
     "text": [
      "Model: \"sequential\"\n",
      "_________________________________________________________________\n",
      " Layer (type)                Output Shape              Param #   \n",
      "=================================================================\n",
      " conv2d (Conv2D)             (None, 148, 148, 64)      1792      \n",
      "                                                                 \n",
      " max_pooling2d (MaxPooling2D  (None, 74, 74, 64)       0         \n",
      " )                                                               \n",
      "                                                                 \n",
      " conv2d_1 (Conv2D)           (None, 72, 72, 64)        36928     \n",
      "                                                                 \n",
      " max_pooling2d_1 (MaxPooling  (None, 36, 36, 64)       0         \n",
      " 2D)                                                             \n",
      "                                                                 \n",
      " conv2d_2 (Conv2D)           (None, 34, 34, 64)        36928     \n",
      "                                                                 \n",
      " max_pooling2d_2 (MaxPooling  (None, 17, 17, 64)       0         \n",
      " 2D)                                                             \n",
      "                                                                 \n",
      " flatten (Flatten)           (None, 18496)             0         \n",
      "                                                                 \n",
      " dense (Dense)               (None, 100)               1849700   \n",
      "                                                                 \n",
      " dropout (Dropout)           (None, 100)               0         \n",
      "                                                                 \n",
      " dense_1 (Dense)             (None, 6)                 606       \n",
      "                                                                 \n",
      "=================================================================\n",
      "Total params: 1,925,954\n",
      "Trainable params: 1,925,954\n",
      "Non-trainable params: 0\n",
      "_________________________________________________________________\n"
     ]
    }
   ],
   "source": [
    "model = Sequential()\n",
    "\n",
    "model.add(Conv2D(64, (3,3), activation = 'relu',input_shape=input_shape))\n",
    "model.add(MaxPooling2D((2,2)))\n",
    "\n",
    "model.add(Conv2D(64, (3,3), activation = 'relu'))\n",
    "model.add(MaxPooling2D((2,2)))\n",
    "\n",
    "model.add(Conv2D(64, (3,3), activation = 'relu'))\n",
    "model.add(MaxPooling2D((2,2)))\n",
    "model.add(Flatten())\n",
    "\n",
    "model.add(Dense(100, input_shape = input_shape, activation = 'relu'))\n",
    "model.add(Dropout(0.5))\n",
    "model.add(Dense(6, activation = 'softmax'))\n",
    "\n",
    "model.summary()"
   ]
  },
  {
   "cell_type": "code",
   "execution_count": 13,
   "metadata": {
    "executionInfo": {
     "elapsed": 231,
     "status": "ok",
     "timestamp": 1638630659115,
     "user": {
      "displayName": "Todd Wong",
      "photoUrl": "https://lh3.googleusercontent.com/a/default-user=s64",
      "userId": "03494286582269224603"
     },
     "user_tz": -480
    },
    "id": "4aPfyabORvxq"
   },
   "outputs": [],
   "source": [
    "#   define compile to minimize categorical loss, use ada delta optimized, and optimize to maximizing accuracy\n",
    "model.compile(\n",
    "    optimizer = \"adam\", \n",
    "    loss = \"categorical_crossentropy\", \n",
    "    metrics = ['accuracy']\n",
    ")"
   ]
  },
  {
   "cell_type": "code",
   "execution_count": 14,
   "metadata": {
    "colab": {
     "base_uri": "https://localhost:8080/"
    },
    "executionInfo": {
     "elapsed": 1280383,
     "status": "ok",
     "timestamp": 1638631967480,
     "user": {
      "displayName": "Todd Wong",
      "photoUrl": "https://lh3.googleusercontent.com/a/default-user=s64",
      "userId": "03494286582269224603"
     },
     "user_tz": -480
    },
    "id": "bae8f8PZRvxt",
    "outputId": "1443821b-8185-479d-a5b9-361299042763"
   },
   "outputs": [
    {
     "name": "stderr",
     "output_type": "stream",
     "text": [
      "/usr/local/lib/python3.7/dist-packages/ipykernel_launcher.py:1: UserWarning: `Model.fit_generator` is deprecated and will be removed in a future version. Please use `Model.fit`, which supports generators.\n",
      "  \"\"\"Entry point for launching an IPython kernel.\n",
      "/usr/local/lib/python3.7/dist-packages/keras_preprocessing/image/image_data_generator.py:720: UserWarning: This ImageDataGenerator specifies `featurewise_center`, but it hasn't been fit on any training data. Fit it first by calling `.fit(numpy_data)`.\n",
      "  warnings.warn('This ImageDataGenerator specifies '\n",
      "/usr/local/lib/python3.7/dist-packages/keras_preprocessing/image/image_data_generator.py:728: UserWarning: This ImageDataGenerator specifies `featurewise_std_normalization`, but it hasn't been fit on any training data. Fit it first by calling `.fit(numpy_data)`.\n",
      "  warnings.warn('This ImageDataGenerator specifies '\n"
     ]
    },
    {
     "name": "stdout",
     "output_type": "stream",
     "text": [
      "Epoch 1/10\n",
      "437/437 [==============================] - 130s 290ms/step - loss: 1.2649 - accuracy: 0.4881 - val_loss: 1.2729 - val_accuracy: 0.5353\n",
      "Epoch 2/10\n",
      "437/437 [==============================] - 125s 287ms/step - loss: 1.0505 - accuracy: 0.5961 - val_loss: 0.7901 - val_accuracy: 0.7130\n",
      "Epoch 3/10\n",
      "437/437 [==============================] - 127s 290ms/step - loss: 0.9578 - accuracy: 0.6453 - val_loss: 0.7318 - val_accuracy: 0.7390\n",
      "Epoch 4/10\n",
      "437/437 [==============================] - 126s 289ms/step - loss: 0.9062 - accuracy: 0.6702 - val_loss: 0.6734 - val_accuracy: 0.7650\n",
      "Epoch 5/10\n",
      "437/437 [==============================] - 126s 289ms/step - loss: 0.8451 - accuracy: 0.6915 - val_loss: 0.7446 - val_accuracy: 0.7400\n",
      "Epoch 6/10\n",
      "437/437 [==============================] - 126s 288ms/step - loss: 0.8055 - accuracy: 0.7084 - val_loss: 0.6217 - val_accuracy: 0.7863\n",
      "Epoch 7/10\n",
      "437/437 [==============================] - 126s 288ms/step - loss: 0.7628 - accuracy: 0.7251 - val_loss: 0.5807 - val_accuracy: 0.7997\n",
      "Epoch 8/10\n",
      "437/437 [==============================] - 126s 289ms/step - loss: 0.7339 - accuracy: 0.7378 - val_loss: 0.5989 - val_accuracy: 0.7850\n",
      "Epoch 9/10\n",
      "437/437 [==============================] - 125s 286ms/step - loss: 0.7241 - accuracy: 0.7411 - val_loss: 0.6532 - val_accuracy: 0.7637\n",
      "Epoch 10/10\n",
      "437/437 [==============================] - 127s 290ms/step - loss: 0.7054 - accuracy: 0.7528 - val_loss: 0.5280 - val_accuracy: 0.8183\n"
     ]
    }
   ],
   "source": [
    "history = model.fit_generator(train_generator, epochs=epochs, validation_data=val_generator)"
   ]
  },
  {
   "cell_type": "markdown",
   "metadata": {},
   "source": [
    "#### 2) Using Pretrained Model (InceptionV3)"
   ]
  },
  {
   "cell_type": "code",
   "execution_count": 15,
   "metadata": {
    "executionInfo": {
     "elapsed": 229,
     "status": "ok",
     "timestamp": 1638632250675,
     "user": {
      "displayName": "Todd Wong",
      "photoUrl": "https://lh3.googleusercontent.com/a/default-user=s64",
      "userId": "03494286582269224603"
     },
     "user_tz": -480
    },
    "id": "m-yaLLM6Rvxt"
   },
   "outputs": [],
   "source": [
    "from tensorflow.keras.applications.inception_v3 import InceptionV3"
   ]
  },
  {
   "cell_type": "code",
   "execution_count": 16,
   "metadata": {
    "executionInfo": {
     "elapsed": 2490,
     "status": "ok",
     "timestamp": 1638632263733,
     "user": {
      "displayName": "Todd Wong",
      "photoUrl": "https://lh3.googleusercontent.com/a/default-user=s64",
      "userId": "03494286582269224603"
     },
     "user_tz": -480
    },
    "id": "AsSBvJboRvxu"
   },
   "outputs": [],
   "source": [
    "pre_trained_model = InceptionV3(input_shape=(150,150,3), include_top=False,weights=None)"
   ]
  },
  {
   "cell_type": "code",
   "execution_count": 17,
   "metadata": {
    "executionInfo": {
     "elapsed": 246,
     "status": "ok",
     "timestamp": 1638633054816,
     "user": {
      "displayName": "Todd Wong",
      "photoUrl": "https://lh3.googleusercontent.com/a/default-user=s64",
      "userId": "03494286582269224603"
     },
     "user_tz": -480
    },
    "id": "nwOUw6gfGATq"
   },
   "outputs": [],
   "source": [
    "weights_file = 'drive/MyDrive/FDM/inception_v3_weights_tf_dim_ordering_tf_kernels_notop.h5'"
   ]
  },
  {
   "cell_type": "code",
   "execution_count": 18,
   "metadata": {
    "executionInfo": {
     "elapsed": 1765,
     "status": "ok",
     "timestamp": 1638633064288,
     "user": {
      "displayName": "Todd Wong",
      "photoUrl": "https://lh3.googleusercontent.com/a/default-user=s64",
      "userId": "03494286582269224603"
     },
     "user_tz": -480
    },
    "id": "aVVvrCCcJB_f"
   },
   "outputs": [],
   "source": [
    "pre_trained_model.load_weights(weights_file)"
   ]
  },
  {
   "cell_type": "code",
   "execution_count": 20,
   "metadata": {
    "executionInfo": {
     "elapsed": 245,
     "status": "ok",
     "timestamp": 1638633082726,
     "user": {
      "displayName": "Todd Wong",
      "photoUrl": "https://lh3.googleusercontent.com/a/default-user=s64",
      "userId": "03494286582269224603"
     },
     "user_tz": -480
    },
    "id": "dMMSnVWoJD1C"
   },
   "outputs": [],
   "source": [
    "for layer in pre_trained_model.layers:  \n",
    "      layer.trainable=False"
   ]
  },
  {
   "cell_type": "code",
   "execution_count": 21,
   "metadata": {
    "colab": {
     "base_uri": "https://localhost:8080/"
    },
    "executionInfo": {
     "elapsed": 264,
     "status": "ok",
     "timestamp": 1638633091653,
     "user": {
      "displayName": "Todd Wong",
      "photoUrl": "https://lh3.googleusercontent.com/a/default-user=s64",
      "userId": "03494286582269224603"
     },
     "user_tz": -480
    },
    "id": "uDgv0ZjUJH8E",
    "outputId": "753091ac-6be3-4138-b2b2-a22f76f0a4c7"
   },
   "outputs": [
    {
     "name": "stdout",
     "output_type": "stream",
     "text": [
      "last layer output shape:  (None, 7, 7, 768)\n"
     ]
    }
   ],
   "source": [
    "last_layer = pre_trained_model.get_layer('mixed7')\n",
    "print('last layer output shape: ', last_layer.output_shape)\n",
    "last_output = last_layer.output"
   ]
  },
  {
   "cell_type": "code",
   "execution_count": 22,
   "metadata": {
    "colab": {
     "base_uri": "https://localhost:8080/"
    },
    "executionInfo": {
     "elapsed": 833,
     "status": "ok",
     "timestamp": 1638633130976,
     "user": {
      "displayName": "Todd Wong",
      "photoUrl": "https://lh3.googleusercontent.com/a/default-user=s64",
      "userId": "03494286582269224603"
     },
     "user_tz": -480
    },
    "id": "h90jsNggJK-w",
    "outputId": "05883d25-cc30-45c7-e51a-da602be07a52"
   },
   "outputs": [
    {
     "name": "stdout",
     "output_type": "stream",
     "text": [
      "Model: \"model\"\n",
      "__________________________________________________________________________________________________\n",
      " Layer (type)                   Output Shape         Param #     Connected to                     \n",
      "==================================================================================================\n",
      " input_1 (InputLayer)           [(None, 150, 150, 3  0           []                               \n",
      "                                )]                                                                \n",
      "                                                                                                  \n",
      " conv2d_3 (Conv2D)              (None, 74, 74, 32)   864         ['input_1[0][0]']                \n",
      "                                                                                                  \n",
      " batch_normalization (BatchNorm  (None, 74, 74, 32)  96          ['conv2d_3[0][0]']               \n",
      " alization)                                                                                       \n",
      "                                                                                                  \n",
      " activation (Activation)        (None, 74, 74, 32)   0           ['batch_normalization[0][0]']    \n",
      "                                                                                                  \n",
      " conv2d_4 (Conv2D)              (None, 72, 72, 32)   9216        ['activation[0][0]']             \n",
      "                                                                                                  \n",
      " batch_normalization_1 (BatchNo  (None, 72, 72, 32)  96          ['conv2d_4[0][0]']               \n",
      " rmalization)                                                                                     \n",
      "                                                                                                  \n",
      " activation_1 (Activation)      (None, 72, 72, 32)   0           ['batch_normalization_1[0][0]']  \n",
      "                                                                                                  \n",
      " conv2d_5 (Conv2D)              (None, 72, 72, 64)   18432       ['activation_1[0][0]']           \n",
      "                                                                                                  \n",
      " batch_normalization_2 (BatchNo  (None, 72, 72, 64)  192         ['conv2d_5[0][0]']               \n",
      " rmalization)                                                                                     \n",
      "                                                                                                  \n",
      " activation_2 (Activation)      (None, 72, 72, 64)   0           ['batch_normalization_2[0][0]']  \n",
      "                                                                                                  \n",
      " max_pooling2d_3 (MaxPooling2D)  (None, 35, 35, 64)  0           ['activation_2[0][0]']           \n",
      "                                                                                                  \n",
      " conv2d_6 (Conv2D)              (None, 35, 35, 80)   5120        ['max_pooling2d_3[0][0]']        \n",
      "                                                                                                  \n",
      " batch_normalization_3 (BatchNo  (None, 35, 35, 80)  240         ['conv2d_6[0][0]']               \n",
      " rmalization)                                                                                     \n",
      "                                                                                                  \n",
      " activation_3 (Activation)      (None, 35, 35, 80)   0           ['batch_normalization_3[0][0]']  \n",
      "                                                                                                  \n",
      " conv2d_7 (Conv2D)              (None, 33, 33, 192)  138240      ['activation_3[0][0]']           \n",
      "                                                                                                  \n",
      " batch_normalization_4 (BatchNo  (None, 33, 33, 192)  576        ['conv2d_7[0][0]']               \n",
      " rmalization)                                                                                     \n",
      "                                                                                                  \n",
      " activation_4 (Activation)      (None, 33, 33, 192)  0           ['batch_normalization_4[0][0]']  \n",
      "                                                                                                  \n",
      " max_pooling2d_4 (MaxPooling2D)  (None, 16, 16, 192)  0          ['activation_4[0][0]']           \n",
      "                                                                                                  \n",
      " conv2d_11 (Conv2D)             (None, 16, 16, 64)   12288       ['max_pooling2d_4[0][0]']        \n",
      "                                                                                                  \n",
      " batch_normalization_8 (BatchNo  (None, 16, 16, 64)  192         ['conv2d_11[0][0]']              \n",
      " rmalization)                                                                                     \n",
      "                                                                                                  \n",
      " activation_8 (Activation)      (None, 16, 16, 64)   0           ['batch_normalization_8[0][0]']  \n",
      "                                                                                                  \n",
      " conv2d_9 (Conv2D)              (None, 16, 16, 48)   9216        ['max_pooling2d_4[0][0]']        \n",
      "                                                                                                  \n",
      " conv2d_12 (Conv2D)             (None, 16, 16, 96)   55296       ['activation_8[0][0]']           \n",
      "                                                                                                  \n",
      " batch_normalization_6 (BatchNo  (None, 16, 16, 48)  144         ['conv2d_9[0][0]']               \n",
      " rmalization)                                                                                     \n",
      "                                                                                                  \n",
      " batch_normalization_9 (BatchNo  (None, 16, 16, 96)  288         ['conv2d_12[0][0]']              \n",
      " rmalization)                                                                                     \n",
      "                                                                                                  \n",
      " activation_6 (Activation)      (None, 16, 16, 48)   0           ['batch_normalization_6[0][0]']  \n",
      "                                                                                                  \n",
      " activation_9 (Activation)      (None, 16, 16, 96)   0           ['batch_normalization_9[0][0]']  \n",
      "                                                                                                  \n",
      " average_pooling2d (AveragePool  (None, 16, 16, 192)  0          ['max_pooling2d_4[0][0]']        \n",
      " ing2D)                                                                                           \n",
      "                                                                                                  \n",
      " conv2d_8 (Conv2D)              (None, 16, 16, 64)   12288       ['max_pooling2d_4[0][0]']        \n",
      "                                                                                                  \n",
      " conv2d_10 (Conv2D)             (None, 16, 16, 64)   76800       ['activation_6[0][0]']           \n",
      "                                                                                                  \n",
      " conv2d_13 (Conv2D)             (None, 16, 16, 96)   82944       ['activation_9[0][0]']           \n",
      "                                                                                                  \n",
      " conv2d_14 (Conv2D)             (None, 16, 16, 32)   6144        ['average_pooling2d[0][0]']      \n",
      "                                                                                                  \n",
      " batch_normalization_5 (BatchNo  (None, 16, 16, 64)  192         ['conv2d_8[0][0]']               \n",
      " rmalization)                                                                                     \n",
      "                                                                                                  \n",
      " batch_normalization_7 (BatchNo  (None, 16, 16, 64)  192         ['conv2d_10[0][0]']              \n",
      " rmalization)                                                                                     \n",
      "                                                                                                  \n",
      " batch_normalization_10 (BatchN  (None, 16, 16, 96)  288         ['conv2d_13[0][0]']              \n",
      " ormalization)                                                                                    \n",
      "                                                                                                  \n",
      " batch_normalization_11 (BatchN  (None, 16, 16, 32)  96          ['conv2d_14[0][0]']              \n",
      " ormalization)                                                                                    \n",
      "                                                                                                  \n",
      " activation_5 (Activation)      (None, 16, 16, 64)   0           ['batch_normalization_5[0][0]']  \n",
      "                                                                                                  \n",
      " activation_7 (Activation)      (None, 16, 16, 64)   0           ['batch_normalization_7[0][0]']  \n",
      "                                                                                                  \n",
      " activation_10 (Activation)     (None, 16, 16, 96)   0           ['batch_normalization_10[0][0]'] \n",
      "                                                                                                  \n",
      " activation_11 (Activation)     (None, 16, 16, 32)   0           ['batch_normalization_11[0][0]'] \n",
      "                                                                                                  \n",
      " mixed0 (Concatenate)           (None, 16, 16, 256)  0           ['activation_5[0][0]',           \n",
      "                                                                  'activation_7[0][0]',           \n",
      "                                                                  'activation_10[0][0]',          \n",
      "                                                                  'activation_11[0][0]']          \n",
      "                                                                                                  \n",
      " conv2d_18 (Conv2D)             (None, 16, 16, 64)   16384       ['mixed0[0][0]']                 \n",
      "                                                                                                  \n",
      " batch_normalization_15 (BatchN  (None, 16, 16, 64)  192         ['conv2d_18[0][0]']              \n",
      " ormalization)                                                                                    \n",
      "                                                                                                  \n",
      " activation_15 (Activation)     (None, 16, 16, 64)   0           ['batch_normalization_15[0][0]'] \n",
      "                                                                                                  \n",
      " conv2d_16 (Conv2D)             (None, 16, 16, 48)   12288       ['mixed0[0][0]']                 \n",
      "                                                                                                  \n",
      " conv2d_19 (Conv2D)             (None, 16, 16, 96)   55296       ['activation_15[0][0]']          \n",
      "                                                                                                  \n",
      " batch_normalization_13 (BatchN  (None, 16, 16, 48)  144         ['conv2d_16[0][0]']              \n",
      " ormalization)                                                                                    \n",
      "                                                                                                  \n",
      " batch_normalization_16 (BatchN  (None, 16, 16, 96)  288         ['conv2d_19[0][0]']              \n",
      " ormalization)                                                                                    \n",
      "                                                                                                  \n",
      " activation_13 (Activation)     (None, 16, 16, 48)   0           ['batch_normalization_13[0][0]'] \n",
      "                                                                                                  \n",
      " activation_16 (Activation)     (None, 16, 16, 96)   0           ['batch_normalization_16[0][0]'] \n",
      "                                                                                                  \n",
      " average_pooling2d_1 (AveragePo  (None, 16, 16, 256)  0          ['mixed0[0][0]']                 \n",
      " oling2D)                                                                                         \n",
      "                                                                                                  \n",
      " conv2d_15 (Conv2D)             (None, 16, 16, 64)   16384       ['mixed0[0][0]']                 \n",
      "                                                                                                  \n",
      " conv2d_17 (Conv2D)             (None, 16, 16, 64)   76800       ['activation_13[0][0]']          \n",
      "                                                                                                  \n",
      " conv2d_20 (Conv2D)             (None, 16, 16, 96)   82944       ['activation_16[0][0]']          \n",
      "                                                                                                  \n",
      " conv2d_21 (Conv2D)             (None, 16, 16, 64)   16384       ['average_pooling2d_1[0][0]']    \n",
      "                                                                                                  \n",
      " batch_normalization_12 (BatchN  (None, 16, 16, 64)  192         ['conv2d_15[0][0]']              \n",
      " ormalization)                                                                                    \n",
      "                                                                                                  \n",
      " batch_normalization_14 (BatchN  (None, 16, 16, 64)  192         ['conv2d_17[0][0]']              \n",
      " ormalization)                                                                                    \n",
      "                                                                                                  \n",
      " batch_normalization_17 (BatchN  (None, 16, 16, 96)  288         ['conv2d_20[0][0]']              \n",
      " ormalization)                                                                                    \n",
      "                                                                                                  \n",
      " batch_normalization_18 (BatchN  (None, 16, 16, 64)  192         ['conv2d_21[0][0]']              \n",
      " ormalization)                                                                                    \n",
      "                                                                                                  \n",
      " activation_12 (Activation)     (None, 16, 16, 64)   0           ['batch_normalization_12[0][0]'] \n",
      "                                                                                                  \n",
      " activation_14 (Activation)     (None, 16, 16, 64)   0           ['batch_normalization_14[0][0]'] \n",
      "                                                                                                  \n",
      " activation_17 (Activation)     (None, 16, 16, 96)   0           ['batch_normalization_17[0][0]'] \n",
      "                                                                                                  \n",
      " activation_18 (Activation)     (None, 16, 16, 64)   0           ['batch_normalization_18[0][0]'] \n",
      "                                                                                                  \n",
      " mixed1 (Concatenate)           (None, 16, 16, 288)  0           ['activation_12[0][0]',          \n",
      "                                                                  'activation_14[0][0]',          \n",
      "                                                                  'activation_17[0][0]',          \n",
      "                                                                  'activation_18[0][0]']          \n",
      "                                                                                                  \n",
      " conv2d_25 (Conv2D)             (None, 16, 16, 64)   18432       ['mixed1[0][0]']                 \n",
      "                                                                                                  \n",
      " batch_normalization_22 (BatchN  (None, 16, 16, 64)  192         ['conv2d_25[0][0]']              \n",
      " ormalization)                                                                                    \n",
      "                                                                                                  \n",
      " activation_22 (Activation)     (None, 16, 16, 64)   0           ['batch_normalization_22[0][0]'] \n",
      "                                                                                                  \n",
      " conv2d_23 (Conv2D)             (None, 16, 16, 48)   13824       ['mixed1[0][0]']                 \n",
      "                                                                                                  \n",
      " conv2d_26 (Conv2D)             (None, 16, 16, 96)   55296       ['activation_22[0][0]']          \n",
      "                                                                                                  \n",
      " batch_normalization_20 (BatchN  (None, 16, 16, 48)  144         ['conv2d_23[0][0]']              \n",
      " ormalization)                                                                                    \n",
      "                                                                                                  \n",
      " batch_normalization_23 (BatchN  (None, 16, 16, 96)  288         ['conv2d_26[0][0]']              \n",
      " ormalization)                                                                                    \n",
      "                                                                                                  \n",
      " activation_20 (Activation)     (None, 16, 16, 48)   0           ['batch_normalization_20[0][0]'] \n",
      "                                                                                                  \n",
      " activation_23 (Activation)     (None, 16, 16, 96)   0           ['batch_normalization_23[0][0]'] \n",
      "                                                                                                  \n",
      " average_pooling2d_2 (AveragePo  (None, 16, 16, 288)  0          ['mixed1[0][0]']                 \n",
      " oling2D)                                                                                         \n",
      "                                                                                                  \n",
      " conv2d_22 (Conv2D)             (None, 16, 16, 64)   18432       ['mixed1[0][0]']                 \n",
      "                                                                                                  \n",
      " conv2d_24 (Conv2D)             (None, 16, 16, 64)   76800       ['activation_20[0][0]']          \n",
      "                                                                                                  \n",
      " conv2d_27 (Conv2D)             (None, 16, 16, 96)   82944       ['activation_23[0][0]']          \n",
      "                                                                                                  \n",
      " conv2d_28 (Conv2D)             (None, 16, 16, 64)   18432       ['average_pooling2d_2[0][0]']    \n",
      "                                                                                                  \n",
      " batch_normalization_19 (BatchN  (None, 16, 16, 64)  192         ['conv2d_22[0][0]']              \n",
      " ormalization)                                                                                    \n",
      "                                                                                                  \n",
      " batch_normalization_21 (BatchN  (None, 16, 16, 64)  192         ['conv2d_24[0][0]']              \n",
      " ormalization)                                                                                    \n",
      "                                                                                                  \n",
      " batch_normalization_24 (BatchN  (None, 16, 16, 96)  288         ['conv2d_27[0][0]']              \n",
      " ormalization)                                                                                    \n",
      "                                                                                                  \n",
      " batch_normalization_25 (BatchN  (None, 16, 16, 64)  192         ['conv2d_28[0][0]']              \n",
      " ormalization)                                                                                    \n",
      "                                                                                                  \n",
      " activation_19 (Activation)     (None, 16, 16, 64)   0           ['batch_normalization_19[0][0]'] \n",
      "                                                                                                  \n",
      " activation_21 (Activation)     (None, 16, 16, 64)   0           ['batch_normalization_21[0][0]'] \n",
      "                                                                                                  \n",
      " activation_24 (Activation)     (None, 16, 16, 96)   0           ['batch_normalization_24[0][0]'] \n",
      "                                                                                                  \n",
      " activation_25 (Activation)     (None, 16, 16, 64)   0           ['batch_normalization_25[0][0]'] \n",
      "                                                                                                  \n",
      " mixed2 (Concatenate)           (None, 16, 16, 288)  0           ['activation_19[0][0]',          \n",
      "                                                                  'activation_21[0][0]',          \n",
      "                                                                  'activation_24[0][0]',          \n",
      "                                                                  'activation_25[0][0]']          \n",
      "                                                                                                  \n",
      " conv2d_30 (Conv2D)             (None, 16, 16, 64)   18432       ['mixed2[0][0]']                 \n",
      "                                                                                                  \n",
      " batch_normalization_27 (BatchN  (None, 16, 16, 64)  192         ['conv2d_30[0][0]']              \n",
      " ormalization)                                                                                    \n",
      "                                                                                                  \n",
      " activation_27 (Activation)     (None, 16, 16, 64)   0           ['batch_normalization_27[0][0]'] \n",
      "                                                                                                  \n",
      " conv2d_31 (Conv2D)             (None, 16, 16, 96)   55296       ['activation_27[0][0]']          \n",
      "                                                                                                  \n",
      " batch_normalization_28 (BatchN  (None, 16, 16, 96)  288         ['conv2d_31[0][0]']              \n",
      " ormalization)                                                                                    \n",
      "                                                                                                  \n",
      " activation_28 (Activation)     (None, 16, 16, 96)   0           ['batch_normalization_28[0][0]'] \n",
      "                                                                                                  \n",
      " conv2d_29 (Conv2D)             (None, 7, 7, 384)    995328      ['mixed2[0][0]']                 \n",
      "                                                                                                  \n",
      " conv2d_32 (Conv2D)             (None, 7, 7, 96)     82944       ['activation_28[0][0]']          \n",
      "                                                                                                  \n",
      " batch_normalization_26 (BatchN  (None, 7, 7, 384)   1152        ['conv2d_29[0][0]']              \n",
      " ormalization)                                                                                    \n",
      "                                                                                                  \n",
      " batch_normalization_29 (BatchN  (None, 7, 7, 96)    288         ['conv2d_32[0][0]']              \n",
      " ormalization)                                                                                    \n",
      "                                                                                                  \n",
      " activation_26 (Activation)     (None, 7, 7, 384)    0           ['batch_normalization_26[0][0]'] \n",
      "                                                                                                  \n",
      " activation_29 (Activation)     (None, 7, 7, 96)     0           ['batch_normalization_29[0][0]'] \n",
      "                                                                                                  \n",
      " max_pooling2d_5 (MaxPooling2D)  (None, 7, 7, 288)   0           ['mixed2[0][0]']                 \n",
      "                                                                                                  \n",
      " mixed3 (Concatenate)           (None, 7, 7, 768)    0           ['activation_26[0][0]',          \n",
      "                                                                  'activation_29[0][0]',          \n",
      "                                                                  'max_pooling2d_5[0][0]']        \n",
      "                                                                                                  \n",
      " conv2d_37 (Conv2D)             (None, 7, 7, 128)    98304       ['mixed3[0][0]']                 \n",
      "                                                                                                  \n",
      " batch_normalization_34 (BatchN  (None, 7, 7, 128)   384         ['conv2d_37[0][0]']              \n",
      " ormalization)                                                                                    \n",
      "                                                                                                  \n",
      " activation_34 (Activation)     (None, 7, 7, 128)    0           ['batch_normalization_34[0][0]'] \n",
      "                                                                                                  \n",
      " conv2d_38 (Conv2D)             (None, 7, 7, 128)    114688      ['activation_34[0][0]']          \n",
      "                                                                                                  \n",
      " batch_normalization_35 (BatchN  (None, 7, 7, 128)   384         ['conv2d_38[0][0]']              \n",
      " ormalization)                                                                                    \n",
      "                                                                                                  \n",
      " activation_35 (Activation)     (None, 7, 7, 128)    0           ['batch_normalization_35[0][0]'] \n",
      "                                                                                                  \n",
      " conv2d_34 (Conv2D)             (None, 7, 7, 128)    98304       ['mixed3[0][0]']                 \n",
      "                                                                                                  \n",
      " conv2d_39 (Conv2D)             (None, 7, 7, 128)    114688      ['activation_35[0][0]']          \n",
      "                                                                                                  \n",
      " batch_normalization_31 (BatchN  (None, 7, 7, 128)   384         ['conv2d_34[0][0]']              \n",
      " ormalization)                                                                                    \n",
      "                                                                                                  \n",
      " batch_normalization_36 (BatchN  (None, 7, 7, 128)   384         ['conv2d_39[0][0]']              \n",
      " ormalization)                                                                                    \n",
      "                                                                                                  \n",
      " activation_31 (Activation)     (None, 7, 7, 128)    0           ['batch_normalization_31[0][0]'] \n",
      "                                                                                                  \n",
      " activation_36 (Activation)     (None, 7, 7, 128)    0           ['batch_normalization_36[0][0]'] \n",
      "                                                                                                  \n",
      " conv2d_35 (Conv2D)             (None, 7, 7, 128)    114688      ['activation_31[0][0]']          \n",
      "                                                                                                  \n",
      " conv2d_40 (Conv2D)             (None, 7, 7, 128)    114688      ['activation_36[0][0]']          \n",
      "                                                                                                  \n",
      " batch_normalization_32 (BatchN  (None, 7, 7, 128)   384         ['conv2d_35[0][0]']              \n",
      " ormalization)                                                                                    \n",
      "                                                                                                  \n",
      " batch_normalization_37 (BatchN  (None, 7, 7, 128)   384         ['conv2d_40[0][0]']              \n",
      " ormalization)                                                                                    \n",
      "                                                                                                  \n",
      " activation_32 (Activation)     (None, 7, 7, 128)    0           ['batch_normalization_32[0][0]'] \n",
      "                                                                                                  \n",
      " activation_37 (Activation)     (None, 7, 7, 128)    0           ['batch_normalization_37[0][0]'] \n",
      "                                                                                                  \n",
      " average_pooling2d_3 (AveragePo  (None, 7, 7, 768)   0           ['mixed3[0][0]']                 \n",
      " oling2D)                                                                                         \n",
      "                                                                                                  \n",
      " conv2d_33 (Conv2D)             (None, 7, 7, 192)    147456      ['mixed3[0][0]']                 \n",
      "                                                                                                  \n",
      " conv2d_36 (Conv2D)             (None, 7, 7, 192)    172032      ['activation_32[0][0]']          \n",
      "                                                                                                  \n",
      " conv2d_41 (Conv2D)             (None, 7, 7, 192)    172032      ['activation_37[0][0]']          \n",
      "                                                                                                  \n",
      " conv2d_42 (Conv2D)             (None, 7, 7, 192)    147456      ['average_pooling2d_3[0][0]']    \n",
      "                                                                                                  \n",
      " batch_normalization_30 (BatchN  (None, 7, 7, 192)   576         ['conv2d_33[0][0]']              \n",
      " ormalization)                                                                                    \n",
      "                                                                                                  \n",
      " batch_normalization_33 (BatchN  (None, 7, 7, 192)   576         ['conv2d_36[0][0]']              \n",
      " ormalization)                                                                                    \n",
      "                                                                                                  \n",
      " batch_normalization_38 (BatchN  (None, 7, 7, 192)   576         ['conv2d_41[0][0]']              \n",
      " ormalization)                                                                                    \n",
      "                                                                                                  \n",
      " batch_normalization_39 (BatchN  (None, 7, 7, 192)   576         ['conv2d_42[0][0]']              \n",
      " ormalization)                                                                                    \n",
      "                                                                                                  \n",
      " activation_30 (Activation)     (None, 7, 7, 192)    0           ['batch_normalization_30[0][0]'] \n",
      "                                                                                                  \n",
      " activation_33 (Activation)     (None, 7, 7, 192)    0           ['batch_normalization_33[0][0]'] \n",
      "                                                                                                  \n",
      " activation_38 (Activation)     (None, 7, 7, 192)    0           ['batch_normalization_38[0][0]'] \n",
      "                                                                                                  \n",
      " activation_39 (Activation)     (None, 7, 7, 192)    0           ['batch_normalization_39[0][0]'] \n",
      "                                                                                                  \n",
      " mixed4 (Concatenate)           (None, 7, 7, 768)    0           ['activation_30[0][0]',          \n",
      "                                                                  'activation_33[0][0]',          \n",
      "                                                                  'activation_38[0][0]',          \n",
      "                                                                  'activation_39[0][0]']          \n",
      "                                                                                                  \n",
      " conv2d_47 (Conv2D)             (None, 7, 7, 160)    122880      ['mixed4[0][0]']                 \n",
      "                                                                                                  \n",
      " batch_normalization_44 (BatchN  (None, 7, 7, 160)   480         ['conv2d_47[0][0]']              \n",
      " ormalization)                                                                                    \n",
      "                                                                                                  \n",
      " activation_44 (Activation)     (None, 7, 7, 160)    0           ['batch_normalization_44[0][0]'] \n",
      "                                                                                                  \n",
      " conv2d_48 (Conv2D)             (None, 7, 7, 160)    179200      ['activation_44[0][0]']          \n",
      "                                                                                                  \n",
      " batch_normalization_45 (BatchN  (None, 7, 7, 160)   480         ['conv2d_48[0][0]']              \n",
      " ormalization)                                                                                    \n",
      "                                                                                                  \n",
      " activation_45 (Activation)     (None, 7, 7, 160)    0           ['batch_normalization_45[0][0]'] \n",
      "                                                                                                  \n",
      " conv2d_44 (Conv2D)             (None, 7, 7, 160)    122880      ['mixed4[0][0]']                 \n",
      "                                                                                                  \n",
      " conv2d_49 (Conv2D)             (None, 7, 7, 160)    179200      ['activation_45[0][0]']          \n",
      "                                                                                                  \n",
      " batch_normalization_41 (BatchN  (None, 7, 7, 160)   480         ['conv2d_44[0][0]']              \n",
      " ormalization)                                                                                    \n",
      "                                                                                                  \n",
      " batch_normalization_46 (BatchN  (None, 7, 7, 160)   480         ['conv2d_49[0][0]']              \n",
      " ormalization)                                                                                    \n",
      "                                                                                                  \n",
      " activation_41 (Activation)     (None, 7, 7, 160)    0           ['batch_normalization_41[0][0]'] \n",
      "                                                                                                  \n",
      " activation_46 (Activation)     (None, 7, 7, 160)    0           ['batch_normalization_46[0][0]'] \n",
      "                                                                                                  \n",
      " conv2d_45 (Conv2D)             (None, 7, 7, 160)    179200      ['activation_41[0][0]']          \n",
      "                                                                                                  \n",
      " conv2d_50 (Conv2D)             (None, 7, 7, 160)    179200      ['activation_46[0][0]']          \n",
      "                                                                                                  \n",
      " batch_normalization_42 (BatchN  (None, 7, 7, 160)   480         ['conv2d_45[0][0]']              \n",
      " ormalization)                                                                                    \n",
      "                                                                                                  \n",
      " batch_normalization_47 (BatchN  (None, 7, 7, 160)   480         ['conv2d_50[0][0]']              \n",
      " ormalization)                                                                                    \n",
      "                                                                                                  \n",
      " activation_42 (Activation)     (None, 7, 7, 160)    0           ['batch_normalization_42[0][0]'] \n",
      "                                                                                                  \n",
      " activation_47 (Activation)     (None, 7, 7, 160)    0           ['batch_normalization_47[0][0]'] \n",
      "                                                                                                  \n",
      " average_pooling2d_4 (AveragePo  (None, 7, 7, 768)   0           ['mixed4[0][0]']                 \n",
      " oling2D)                                                                                         \n",
      "                                                                                                  \n",
      " conv2d_43 (Conv2D)             (None, 7, 7, 192)    147456      ['mixed4[0][0]']                 \n",
      "                                                                                                  \n",
      " conv2d_46 (Conv2D)             (None, 7, 7, 192)    215040      ['activation_42[0][0]']          \n",
      "                                                                                                  \n",
      " conv2d_51 (Conv2D)             (None, 7, 7, 192)    215040      ['activation_47[0][0]']          \n",
      "                                                                                                  \n",
      " conv2d_52 (Conv2D)             (None, 7, 7, 192)    147456      ['average_pooling2d_4[0][0]']    \n",
      "                                                                                                  \n",
      " batch_normalization_40 (BatchN  (None, 7, 7, 192)   576         ['conv2d_43[0][0]']              \n",
      " ormalization)                                                                                    \n",
      "                                                                                                  \n",
      " batch_normalization_43 (BatchN  (None, 7, 7, 192)   576         ['conv2d_46[0][0]']              \n",
      " ormalization)                                                                                    \n",
      "                                                                                                  \n",
      " batch_normalization_48 (BatchN  (None, 7, 7, 192)   576         ['conv2d_51[0][0]']              \n",
      " ormalization)                                                                                    \n",
      "                                                                                                  \n",
      " batch_normalization_49 (BatchN  (None, 7, 7, 192)   576         ['conv2d_52[0][0]']              \n",
      " ormalization)                                                                                    \n",
      "                                                                                                  \n",
      " activation_40 (Activation)     (None, 7, 7, 192)    0           ['batch_normalization_40[0][0]'] \n",
      "                                                                                                  \n",
      " activation_43 (Activation)     (None, 7, 7, 192)    0           ['batch_normalization_43[0][0]'] \n",
      "                                                                                                  \n",
      " activation_48 (Activation)     (None, 7, 7, 192)    0           ['batch_normalization_48[0][0]'] \n",
      "                                                                                                  \n",
      " activation_49 (Activation)     (None, 7, 7, 192)    0           ['batch_normalization_49[0][0]'] \n",
      "                                                                                                  \n",
      " mixed5 (Concatenate)           (None, 7, 7, 768)    0           ['activation_40[0][0]',          \n",
      "                                                                  'activation_43[0][0]',          \n",
      "                                                                  'activation_48[0][0]',          \n",
      "                                                                  'activation_49[0][0]']          \n",
      "                                                                                                  \n",
      " conv2d_57 (Conv2D)             (None, 7, 7, 160)    122880      ['mixed5[0][0]']                 \n",
      "                                                                                                  \n",
      " batch_normalization_54 (BatchN  (None, 7, 7, 160)   480         ['conv2d_57[0][0]']              \n",
      " ormalization)                                                                                    \n",
      "                                                                                                  \n",
      " activation_54 (Activation)     (None, 7, 7, 160)    0           ['batch_normalization_54[0][0]'] \n",
      "                                                                                                  \n",
      " conv2d_58 (Conv2D)             (None, 7, 7, 160)    179200      ['activation_54[0][0]']          \n",
      "                                                                                                  \n",
      " batch_normalization_55 (BatchN  (None, 7, 7, 160)   480         ['conv2d_58[0][0]']              \n",
      " ormalization)                                                                                    \n",
      "                                                                                                  \n",
      " activation_55 (Activation)     (None, 7, 7, 160)    0           ['batch_normalization_55[0][0]'] \n",
      "                                                                                                  \n",
      " conv2d_54 (Conv2D)             (None, 7, 7, 160)    122880      ['mixed5[0][0]']                 \n",
      "                                                                                                  \n",
      " conv2d_59 (Conv2D)             (None, 7, 7, 160)    179200      ['activation_55[0][0]']          \n",
      "                                                                                                  \n",
      " batch_normalization_51 (BatchN  (None, 7, 7, 160)   480         ['conv2d_54[0][0]']              \n",
      " ormalization)                                                                                    \n",
      "                                                                                                  \n",
      " batch_normalization_56 (BatchN  (None, 7, 7, 160)   480         ['conv2d_59[0][0]']              \n",
      " ormalization)                                                                                    \n",
      "                                                                                                  \n",
      " activation_51 (Activation)     (None, 7, 7, 160)    0           ['batch_normalization_51[0][0]'] \n",
      "                                                                                                  \n",
      " activation_56 (Activation)     (None, 7, 7, 160)    0           ['batch_normalization_56[0][0]'] \n",
      "                                                                                                  \n",
      " conv2d_55 (Conv2D)             (None, 7, 7, 160)    179200      ['activation_51[0][0]']          \n",
      "                                                                                                  \n",
      " conv2d_60 (Conv2D)             (None, 7, 7, 160)    179200      ['activation_56[0][0]']          \n",
      "                                                                                                  \n",
      " batch_normalization_52 (BatchN  (None, 7, 7, 160)   480         ['conv2d_55[0][0]']              \n",
      " ormalization)                                                                                    \n",
      "                                                                                                  \n",
      " batch_normalization_57 (BatchN  (None, 7, 7, 160)   480         ['conv2d_60[0][0]']              \n",
      " ormalization)                                                                                    \n",
      "                                                                                                  \n",
      " activation_52 (Activation)     (None, 7, 7, 160)    0           ['batch_normalization_52[0][0]'] \n",
      "                                                                                                  \n",
      " activation_57 (Activation)     (None, 7, 7, 160)    0           ['batch_normalization_57[0][0]'] \n",
      "                                                                                                  \n",
      " average_pooling2d_5 (AveragePo  (None, 7, 7, 768)   0           ['mixed5[0][0]']                 \n",
      " oling2D)                                                                                         \n",
      "                                                                                                  \n",
      " conv2d_53 (Conv2D)             (None, 7, 7, 192)    147456      ['mixed5[0][0]']                 \n",
      "                                                                                                  \n",
      " conv2d_56 (Conv2D)             (None, 7, 7, 192)    215040      ['activation_52[0][0]']          \n",
      "                                                                                                  \n",
      " conv2d_61 (Conv2D)             (None, 7, 7, 192)    215040      ['activation_57[0][0]']          \n",
      "                                                                                                  \n",
      " conv2d_62 (Conv2D)             (None, 7, 7, 192)    147456      ['average_pooling2d_5[0][0]']    \n",
      "                                                                                                  \n",
      " batch_normalization_50 (BatchN  (None, 7, 7, 192)   576         ['conv2d_53[0][0]']              \n",
      " ormalization)                                                                                    \n",
      "                                                                                                  \n",
      " batch_normalization_53 (BatchN  (None, 7, 7, 192)   576         ['conv2d_56[0][0]']              \n",
      " ormalization)                                                                                    \n",
      "                                                                                                  \n",
      " batch_normalization_58 (BatchN  (None, 7, 7, 192)   576         ['conv2d_61[0][0]']              \n",
      " ormalization)                                                                                    \n",
      "                                                                                                  \n",
      " batch_normalization_59 (BatchN  (None, 7, 7, 192)   576         ['conv2d_62[0][0]']              \n",
      " ormalization)                                                                                    \n",
      "                                                                                                  \n",
      " activation_50 (Activation)     (None, 7, 7, 192)    0           ['batch_normalization_50[0][0]'] \n",
      "                                                                                                  \n",
      " activation_53 (Activation)     (None, 7, 7, 192)    0           ['batch_normalization_53[0][0]'] \n",
      "                                                                                                  \n",
      " activation_58 (Activation)     (None, 7, 7, 192)    0           ['batch_normalization_58[0][0]'] \n",
      "                                                                                                  \n",
      " activation_59 (Activation)     (None, 7, 7, 192)    0           ['batch_normalization_59[0][0]'] \n",
      "                                                                                                  \n",
      " mixed6 (Concatenate)           (None, 7, 7, 768)    0           ['activation_50[0][0]',          \n",
      "                                                                  'activation_53[0][0]',          \n",
      "                                                                  'activation_58[0][0]',          \n",
      "                                                                  'activation_59[0][0]']          \n",
      "                                                                                                  \n",
      " conv2d_67 (Conv2D)             (None, 7, 7, 192)    147456      ['mixed6[0][0]']                 \n",
      "                                                                                                  \n",
      " batch_normalization_64 (BatchN  (None, 7, 7, 192)   576         ['conv2d_67[0][0]']              \n",
      " ormalization)                                                                                    \n",
      "                                                                                                  \n",
      " activation_64 (Activation)     (None, 7, 7, 192)    0           ['batch_normalization_64[0][0]'] \n",
      "                                                                                                  \n",
      " conv2d_68 (Conv2D)             (None, 7, 7, 192)    258048      ['activation_64[0][0]']          \n",
      "                                                                                                  \n",
      " batch_normalization_65 (BatchN  (None, 7, 7, 192)   576         ['conv2d_68[0][0]']              \n",
      " ormalization)                                                                                    \n",
      "                                                                                                  \n",
      " activation_65 (Activation)     (None, 7, 7, 192)    0           ['batch_normalization_65[0][0]'] \n",
      "                                                                                                  \n",
      " conv2d_64 (Conv2D)             (None, 7, 7, 192)    147456      ['mixed6[0][0]']                 \n",
      "                                                                                                  \n",
      " conv2d_69 (Conv2D)             (None, 7, 7, 192)    258048      ['activation_65[0][0]']          \n",
      "                                                                                                  \n",
      " batch_normalization_61 (BatchN  (None, 7, 7, 192)   576         ['conv2d_64[0][0]']              \n",
      " ormalization)                                                                                    \n",
      "                                                                                                  \n",
      " batch_normalization_66 (BatchN  (None, 7, 7, 192)   576         ['conv2d_69[0][0]']              \n",
      " ormalization)                                                                                    \n",
      "                                                                                                  \n",
      " activation_61 (Activation)     (None, 7, 7, 192)    0           ['batch_normalization_61[0][0]'] \n",
      "                                                                                                  \n",
      " activation_66 (Activation)     (None, 7, 7, 192)    0           ['batch_normalization_66[0][0]'] \n",
      "                                                                                                  \n",
      " conv2d_65 (Conv2D)             (None, 7, 7, 192)    258048      ['activation_61[0][0]']          \n",
      "                                                                                                  \n",
      " conv2d_70 (Conv2D)             (None, 7, 7, 192)    258048      ['activation_66[0][0]']          \n",
      "                                                                                                  \n",
      " batch_normalization_62 (BatchN  (None, 7, 7, 192)   576         ['conv2d_65[0][0]']              \n",
      " ormalization)                                                                                    \n",
      "                                                                                                  \n",
      " batch_normalization_67 (BatchN  (None, 7, 7, 192)   576         ['conv2d_70[0][0]']              \n",
      " ormalization)                                                                                    \n",
      "                                                                                                  \n",
      " activation_62 (Activation)     (None, 7, 7, 192)    0           ['batch_normalization_62[0][0]'] \n",
      "                                                                                                  \n",
      " activation_67 (Activation)     (None, 7, 7, 192)    0           ['batch_normalization_67[0][0]'] \n",
      "                                                                                                  \n",
      " average_pooling2d_6 (AveragePo  (None, 7, 7, 768)   0           ['mixed6[0][0]']                 \n",
      " oling2D)                                                                                         \n",
      "                                                                                                  \n",
      " conv2d_63 (Conv2D)             (None, 7, 7, 192)    147456      ['mixed6[0][0]']                 \n",
      "                                                                                                  \n",
      " conv2d_66 (Conv2D)             (None, 7, 7, 192)    258048      ['activation_62[0][0]']          \n",
      "                                                                                                  \n",
      " conv2d_71 (Conv2D)             (None, 7, 7, 192)    258048      ['activation_67[0][0]']          \n",
      "                                                                                                  \n",
      " conv2d_72 (Conv2D)             (None, 7, 7, 192)    147456      ['average_pooling2d_6[0][0]']    \n",
      "                                                                                                  \n",
      " batch_normalization_60 (BatchN  (None, 7, 7, 192)   576         ['conv2d_63[0][0]']              \n",
      " ormalization)                                                                                    \n",
      "                                                                                                  \n",
      " batch_normalization_63 (BatchN  (None, 7, 7, 192)   576         ['conv2d_66[0][0]']              \n",
      " ormalization)                                                                                    \n",
      "                                                                                                  \n",
      " batch_normalization_68 (BatchN  (None, 7, 7, 192)   576         ['conv2d_71[0][0]']              \n",
      " ormalization)                                                                                    \n",
      "                                                                                                  \n",
      " batch_normalization_69 (BatchN  (None, 7, 7, 192)   576         ['conv2d_72[0][0]']              \n",
      " ormalization)                                                                                    \n",
      "                                                                                                  \n",
      " activation_60 (Activation)     (None, 7, 7, 192)    0           ['batch_normalization_60[0][0]'] \n",
      "                                                                                                  \n",
      " activation_63 (Activation)     (None, 7, 7, 192)    0           ['batch_normalization_63[0][0]'] \n",
      "                                                                                                  \n",
      " activation_68 (Activation)     (None, 7, 7, 192)    0           ['batch_normalization_68[0][0]'] \n",
      "                                                                                                  \n",
      " activation_69 (Activation)     (None, 7, 7, 192)    0           ['batch_normalization_69[0][0]'] \n",
      "                                                                                                  \n",
      " mixed7 (Concatenate)           (None, 7, 7, 768)    0           ['activation_60[0][0]',          \n",
      "                                                                  'activation_63[0][0]',          \n",
      "                                                                  'activation_68[0][0]',          \n",
      "                                                                  'activation_69[0][0]']          \n",
      "                                                                                                  \n",
      " flatten_1 (Flatten)            (None, 37632)        0           ['mixed7[0][0]']                 \n",
      "                                                                                                  \n",
      " dropout_1 (Dropout)            (None, 37632)        0           ['flatten_1[0][0]']              \n",
      "                                                                                                  \n",
      " dense_2 (Dense)                (None, 512)          19268096    ['dropout_1[0][0]']              \n",
      "                                                                                                  \n",
      " dropout_2 (Dropout)            (None, 512)          0           ['dense_2[0][0]']                \n",
      "                                                                                                  \n",
      " dense_3 (Dense)                (None, 6)            3078        ['dropout_2[0][0]']              \n",
      "                                                                                                  \n",
      "==================================================================================================\n",
      "Total params: 28,246,438\n",
      "Trainable params: 19,271,174\n",
      "Non-trainable params: 8,975,264\n",
      "__________________________________________________________________________________________________\n"
     ]
    }
   ],
   "source": [
    "from tensorflow.keras import layers\n",
    "from tensorflow.keras import Model\n",
    "\n",
    "x = layers.Flatten()(last_output)\n",
    "x = layers.Dropout(0.2)(x)      \n",
    "x = layers.Dense(512, activation='relu')(x)\n",
    "x = layers.Dropout(0.2)(x)                  \n",
    "x = layers.Dense(6, activation='softmax')(x)           \n",
    "\n",
    "model = Model(pre_trained_model.input, x) \n",
    "\n",
    "model.compile(\n",
    "    optimizer = \"adam\", \n",
    "    loss = \"categorical_crossentropy\", \n",
    "    metrics = ['accuracy']\n",
    ")\n",
    "\n",
    "model.summary()"
   ]
  },
  {
   "cell_type": "code",
   "execution_count": 23,
   "metadata": {
    "colab": {
     "base_uri": "https://localhost:8080/"
    },
    "executionInfo": {
     "elapsed": 1315726,
     "status": "ok",
     "timestamp": 1638634538901,
     "user": {
      "displayName": "Todd Wong",
      "photoUrl": "https://lh3.googleusercontent.com/a/default-user=s64",
      "userId": "03494286582269224603"
     },
     "user_tz": -480
    },
    "id": "7P5Z9jrjJUb6",
    "outputId": "2bbbb0c0-bd17-44e6-eb39-b7e208e0be9f"
   },
   "outputs": [
    {
     "name": "stderr",
     "output_type": "stream",
     "text": [
      "/usr/local/lib/python3.7/dist-packages/ipykernel_launcher.py:4: UserWarning: `Model.fit_generator` is deprecated and will be removed in a future version. Please use `Model.fit`, which supports generators.\n",
      "  after removing the cwd from sys.path.\n",
      "/usr/local/lib/python3.7/dist-packages/keras_preprocessing/image/image_data_generator.py:720: UserWarning: This ImageDataGenerator specifies `featurewise_center`, but it hasn't been fit on any training data. Fit it first by calling `.fit(numpy_data)`.\n",
      "  warnings.warn('This ImageDataGenerator specifies '\n",
      "/usr/local/lib/python3.7/dist-packages/keras_preprocessing/image/image_data_generator.py:728: UserWarning: This ImageDataGenerator specifies `featurewise_std_normalization`, but it hasn't been fit on any training data. Fit it first by calling `.fit(numpy_data)`.\n",
      "  warnings.warn('This ImageDataGenerator specifies '\n"
     ]
    },
    {
     "name": "stdout",
     "output_type": "stream",
     "text": [
      "Epoch 1/10\n",
      "437/437 [==============================] - 139s 308ms/step - loss: 0.6007 - accuracy: 0.8130 - val_loss: 0.3056 - val_accuracy: 0.8920\n",
      "Epoch 2/10\n",
      "437/437 [==============================] - 132s 302ms/step - loss: 0.3916 - accuracy: 0.8581 - val_loss: 0.2837 - val_accuracy: 0.9000\n",
      "Epoch 3/10\n",
      "437/437 [==============================] - 132s 301ms/step - loss: 0.3661 - accuracy: 0.8663 - val_loss: 0.2918 - val_accuracy: 0.8840\n",
      "Epoch 4/10\n",
      "437/437 [==============================] - 131s 301ms/step - loss: 0.3444 - accuracy: 0.8736 - val_loss: 0.2565 - val_accuracy: 0.9083\n",
      "Epoch 5/10\n",
      "437/437 [==============================] - 131s 300ms/step - loss: 0.3388 - accuracy: 0.8785 - val_loss: 0.2522 - val_accuracy: 0.9087\n",
      "Epoch 6/10\n",
      "437/437 [==============================] - 130s 298ms/step - loss: 0.3345 - accuracy: 0.8785 - val_loss: 0.2505 - val_accuracy: 0.9093\n",
      "Epoch 7/10\n",
      "437/437 [==============================] - 131s 300ms/step - loss: 0.3254 - accuracy: 0.8830 - val_loss: 0.2631 - val_accuracy: 0.9097\n",
      "Epoch 8/10\n",
      "437/437 [==============================] - 131s 299ms/step - loss: 0.3237 - accuracy: 0.8833 - val_loss: 0.2463 - val_accuracy: 0.9137\n",
      "Epoch 9/10\n",
      "437/437 [==============================] - 129s 296ms/step - loss: 0.3089 - accuracy: 0.8872 - val_loss: 0.2647 - val_accuracy: 0.9073\n",
      "Epoch 10/10\n",
      "437/437 [==============================] - 128s 293ms/step - loss: 0.3119 - accuracy: 0.8851 - val_loss: 0.2426 - val_accuracy: 0.9120\n"
     ]
    }
   ],
   "source": [
    "history_inceptionV3 = model.fit_generator(train_generator,\n",
    "                      epochs=10,\n",
    "                      verbose=1,\n",
    "                      validation_data=val_generator)"
   ]
  },
  {
   "cell_type": "markdown",
   "metadata": {},
   "source": [
    "### Saving Model"
   ]
  },
  {
   "cell_type": "code",
   "execution_count": 24,
   "metadata": {
    "executionInfo": {
     "elapsed": 1307,
     "status": "ok",
     "timestamp": 1638634733413,
     "user": {
      "displayName": "Todd Wong",
      "photoUrl": "https://lh3.googleusercontent.com/a/default-user=s64",
      "userId": "03494286582269224603"
     },
     "user_tz": -480
    },
    "id": "4j3R3u3BJrJ2"
   },
   "outputs": [],
   "source": [
    "history_inceptionV3.model.save('inceptionV3_model.h5')"
   ]
  },
  {
   "cell_type": "markdown",
   "metadata": {},
   "source": [
    "### Loading Model and Dataset for Prediction"
   ]
  },
  {
   "cell_type": "markdown",
   "metadata": {},
   "source": [
    "#### Loading Model"
   ]
  },
  {
   "cell_type": "code",
   "execution_count": 9,
   "metadata": {
    "executionInfo": {
     "elapsed": 2723,
     "status": "ok",
     "timestamp": 1638634894029,
     "user": {
      "displayName": "Todd Wong",
      "photoUrl": "https://lh3.googleusercontent.com/a/default-user=s64",
      "userId": "03494286582269224603"
     },
     "user_tz": -480
    },
    "id": "gd1QdtVBLJiG"
   },
   "outputs": [],
   "source": [
    "from tensorflow.keras.models import load_model\n",
    "model_pred = load_model('inceptionV3_model.h5')"
   ]
  },
  {
   "cell_type": "code",
   "execution_count": 10,
   "metadata": {
    "executionInfo": {
     "elapsed": 371,
     "status": "ok",
     "timestamp": 1638634898133,
     "user": {
      "displayName": "Todd Wong",
      "photoUrl": "https://lh3.googleusercontent.com/a/default-user=s64",
      "userId": "03494286582269224603"
     },
     "user_tz": -480
    },
    "id": "BO_qow-8LJvA"
   },
   "outputs": [],
   "source": [
    "model_pred.compile(\n",
    "    optimizer = \"adam\", \n",
    "    loss = \"categorical_crossentropy\", \n",
    "    metrics = ['accuracy']\n",
    ")\n"
   ]
  },
  {
   "cell_type": "markdown",
   "metadata": {},
   "source": [
    "#### Loading Dataset for prediction"
   ]
  },
  {
   "cell_type": "code",
   "execution_count": 12,
   "metadata": {
    "executionInfo": {
     "elapsed": 292,
     "status": "ok",
     "timestamp": 1638634900497,
     "user": {
      "displayName": "Todd Wong",
      "photoUrl": "https://lh3.googleusercontent.com/a/default-user=s64",
      "userId": "03494286582269224603"
     },
     "user_tz": -480
    },
    "id": "H6AMLFyZLrVO"
   },
   "outputs": [],
   "source": [
    "def pred_labelling(dataset):\n",
    "    filepath_list =[]\n",
    "    filename_list = []\n",
    "    folder ='{}'.format(dataset)\n",
    "    print(folder)\n",
    "    files = os.listdir(folder)\n",
    "    for file in files:\n",
    "        if file != '.DS_Store':\n",
    "            filepath=os.path.join (folder,file)\n",
    "            filepath_list.append(filepath)\n",
    "            filename_list.append(file)\n",
    "    print(\"Checking if .DS_Store exists: {} \".format('.DS_Store' in filepath_list))\n",
    "    print(\"\\n\")\n",
    "    return filepath_list, filename_list"
   ]
  },
  {
   "cell_type": "code",
   "execution_count": 13,
   "metadata": {},
   "outputs": [],
   "source": [
    "pred_dataset = 'pred/'\n",
    "label_classes = ['0','1','2','3','4','5']"
   ]
  },
  {
   "cell_type": "code",
   "execution_count": 14,
   "metadata": {
    "colab": {
     "base_uri": "https://localhost:8080/"
    },
    "executionInfo": {
     "elapsed": 246,
     "status": "ok",
     "timestamp": 1638634902765,
     "user": {
      "displayName": "Todd Wong",
      "photoUrl": "https://lh3.googleusercontent.com/a/default-user=s64",
      "userId": "03494286582269224603"
     },
     "user_tz": -480
    },
    "id": "pbbl0s92Mejk",
    "outputId": "9942e712-2880-4f5d-e1fb-c51b036b5789"
   },
   "outputs": [
    {
     "name": "stdout",
     "output_type": "stream",
     "text": [
      "pred/\n",
      "Checking if .DS_Store exists: False \n",
      "\n",
      "\n"
     ]
    }
   ],
   "source": [
    "pred_filepaths, pred_filenames = pred_labelling(pred_dataset)"
   ]
  },
  {
   "cell_type": "code",
   "execution_count": 15,
   "metadata": {},
   "outputs": [
    {
     "data": {
      "text/plain": [
       "['1730.jpg',\n",
       " '17305.jpg',\n",
       " '1731.jpg',\n",
       " '17313.jpg',\n",
       " '17315.jpg',\n",
       " '17319.jpg',\n",
       " '17320.jpg',\n",
       " '17324.jpg',\n",
       " '17341.jpg',\n",
       " '17346.jpg',\n",
       " '17347.jpg',\n",
       " '1735.jpg',\n",
       " '17355.jpg',\n",
       " '17359.jpg',\n",
       " '17363.jpg',\n",
       " '17364.jpg',\n",
       " '17368.jpg',\n",
       " '17370.jpg',\n",
       " '17373.jpg',\n",
       " '17374.jpg',\n",
       " '17379.jpg',\n",
       " '1738.jpg',\n",
       " '17380.jpg',\n",
       " '17381.jpg',\n",
       " '17384.jpg',\n",
       " '17385.jpg',\n",
       " '17387.jpg',\n",
       " '17390.jpg',\n",
       " '17394.jpg',\n",
       " '174.jpg',\n",
       " '17402.jpg',\n",
       " '17404.jpg',\n",
       " '1741.jpg',\n",
       " '17410.jpg',\n",
       " '17411.jpg',\n",
       " '17417.jpg',\n",
       " '17424.jpg',\n",
       " '17426.jpg',\n",
       " '17429.jpg',\n",
       " '1743.jpg',\n",
       " '17434.jpg',\n",
       " '17435.jpg',\n",
       " '17472.jpg',\n",
       " '17475.jpg',\n",
       " '17476.jpg',\n",
       " '17486.jpg',\n",
       " '17488.jpg',\n",
       " '17494.jpg',\n",
       " '17498.jpg',\n",
       " '17499.jpg',\n",
       " '175.jpg',\n",
       " '17506.jpg',\n",
       " '17509.jpg',\n",
       " '17514.jpg',\n",
       " '17515.jpg',\n",
       " '17526.jpg',\n",
       " '17532.jpg',\n",
       " '17559.jpg',\n",
       " '17567.jpg',\n",
       " '1757.jpg',\n",
       " '17575.jpg',\n",
       " '17581.jpg',\n",
       " '17586.jpg',\n",
       " '17590.jpg',\n",
       " '17594.jpg',\n",
       " '1760.jpg',\n",
       " '17600.jpg',\n",
       " '17602.jpg',\n",
       " '17604.jpg',\n",
       " '17605.jpg',\n",
       " '17609.jpg',\n",
       " '17617.jpg',\n",
       " '17625.jpg',\n",
       " '1763.jpg',\n",
       " '17636.jpg',\n",
       " '17662.jpg',\n",
       " '17673.jpg',\n",
       " '17687.jpg',\n",
       " '17718.jpg',\n",
       " '17719.jpg',\n",
       " '17731.jpg']"
      ]
     },
     "execution_count": 15,
     "metadata": {},
     "output_type": "execute_result"
    }
   ],
   "source": [
    "pred_filenames"
   ]
  },
  {
   "cell_type": "markdown",
   "metadata": {},
   "source": [
    "### Model Prediction"
   ]
  },
  {
   "cell_type": "code",
   "execution_count": 16,
   "metadata": {
    "executionInfo": {
     "elapsed": 236,
     "status": "ok",
     "timestamp": 1638635003576,
     "user": {
      "displayName": "Todd Wong",
      "photoUrl": "https://lh3.googleusercontent.com/a/default-user=s64",
      "userId": "03494286582269224603"
     },
     "user_tz": -480
    },
    "id": "v84V6XZ_MvfX"
   },
   "outputs": [],
   "source": [
    "import cv2\n",
    "def image_prediction(pred_filepaths):\n",
    "    pred_label_list = []\n",
    "    print('There are {} images in total for prediction'.format(len(pred_filepaths)))\n",
    "    for pred_filepath in pred_filepaths:\n",
    "        img = cv2.imread(pred_filepath)\n",
    "        img = cv2.resize(img,(150,150))\n",
    "        img = np.reshape(img,[1,150,150,3])\n",
    "        img = img.astype('float64')\n",
    "        img = img / 255.0\n",
    "        pred = model_pred.predict(img)\n",
    "        pred_label = label_classes[np.argmax(pred)]\n",
    "        pred_label_list.append(pred_label)\n",
    "    print('Labelled: {}'.format(len(pred_label_list)))\n",
    "    return pred_label_list\n"
   ]
  },
  {
   "cell_type": "code",
   "execution_count": 17,
   "metadata": {
    "colab": {
     "base_uri": "https://localhost:8080/"
    },
    "executionInfo": {
     "elapsed": 64555,
     "status": "ok",
     "timestamp": 1638635069815,
     "user": {
      "displayName": "Todd Wong",
      "photoUrl": "https://lh3.googleusercontent.com/a/default-user=s64",
      "userId": "03494286582269224603"
     },
     "user_tz": -480
    },
    "id": "SwElAs5rOg-l",
    "outputId": "f3cc828c-bd92-4576-fc24-96a0c3460a1b"
   },
   "outputs": [
    {
     "name": "stdout",
     "output_type": "stream",
     "text": [
      "There are 81 images in total for prediction\n",
      "Labelled: 81\n"
     ]
    }
   ],
   "source": [
    "pred_label_list = image_prediction(pred_filepaths)"
   ]
  },
  {
   "cell_type": "code",
   "execution_count": 18,
   "metadata": {
    "colab": {
     "base_uri": "https://localhost:8080/"
    },
    "executionInfo": {
     "elapsed": 321,
     "status": "ok",
     "timestamp": 1638635089252,
     "user": {
      "displayName": "Todd Wong",
      "photoUrl": "https://lh3.googleusercontent.com/a/default-user=s64",
      "userId": "03494286582269224603"
     },
     "user_tz": -480
    },
    "id": "PylWuhQAOuoi",
    "outputId": "8d6aca90-ccdb-42fd-99f1-cb8691c837c1"
   },
   "outputs": [
    {
     "data": {
      "text/plain": [
       "{'1730.jpg': '5',\n",
       " '17305.jpg': '5',\n",
       " '1731.jpg': '0',\n",
       " '17313.jpg': '5',\n",
       " '17315.jpg': '5',\n",
       " '17319.jpg': '5',\n",
       " '17320.jpg': '5',\n",
       " '17324.jpg': '5',\n",
       " '17341.jpg': '5',\n",
       " '17346.jpg': '5',\n",
       " '17347.jpg': '5',\n",
       " '1735.jpg': '5',\n",
       " '17355.jpg': '5',\n",
       " '17359.jpg': '5',\n",
       " '17363.jpg': '4',\n",
       " '17364.jpg': '3',\n",
       " '17368.jpg': '5',\n",
       " '17370.jpg': '2',\n",
       " '17373.jpg': '5',\n",
       " '17374.jpg': '5',\n",
       " '17379.jpg': '3',\n",
       " '1738.jpg': '3',\n",
       " '17380.jpg': '4',\n",
       " '17381.jpg': '0',\n",
       " '17384.jpg': '2',\n",
       " '17385.jpg': '3',\n",
       " '17387.jpg': '3',\n",
       " '17390.jpg': '2',\n",
       " '17394.jpg': '5',\n",
       " '174.jpg': '4',\n",
       " '17402.jpg': '4',\n",
       " '17404.jpg': '0',\n",
       " '1741.jpg': '4',\n",
       " '17410.jpg': '4',\n",
       " '17411.jpg': '4',\n",
       " '17417.jpg': '0',\n",
       " '17424.jpg': '3',\n",
       " '17426.jpg': '4',\n",
       " '17429.jpg': '3',\n",
       " '1743.jpg': '3',\n",
       " '17434.jpg': '2',\n",
       " '17435.jpg': '3',\n",
       " '17472.jpg': '1',\n",
       " '17475.jpg': '4',\n",
       " '17476.jpg': '4',\n",
       " '17486.jpg': '1',\n",
       " '17488.jpg': '4',\n",
       " '17494.jpg': '1',\n",
       " '17498.jpg': '4',\n",
       " '17499.jpg': '4',\n",
       " '175.jpg': '1',\n",
       " '17506.jpg': '1',\n",
       " '17509.jpg': '4',\n",
       " '17514.jpg': '4',\n",
       " '17515.jpg': '1',\n",
       " '17526.jpg': '4',\n",
       " '17532.jpg': '2',\n",
       " '17559.jpg': '1',\n",
       " '17567.jpg': '1',\n",
       " '1757.jpg': '1',\n",
       " '17575.jpg': '0',\n",
       " '17581.jpg': '5',\n",
       " '17586.jpg': '1',\n",
       " '17590.jpg': '0',\n",
       " '17594.jpg': '0',\n",
       " '1760.jpg': '0',\n",
       " '17600.jpg': '1',\n",
       " '17602.jpg': '0',\n",
       " '17604.jpg': '1',\n",
       " '17605.jpg': '0',\n",
       " '17609.jpg': '0',\n",
       " '17617.jpg': '2',\n",
       " '17625.jpg': '1',\n",
       " '1763.jpg': '0',\n",
       " '17636.jpg': '0',\n",
       " '17662.jpg': '0',\n",
       " '17673.jpg': '0',\n",
       " '17687.jpg': '0',\n",
       " '17718.jpg': '0',\n",
       " '17719.jpg': '0',\n",
       " '17731.jpg': '0'}"
      ]
     },
     "execution_count": 18,
     "metadata": {},
     "output_type": "execute_result"
    }
   ],
   "source": [
    "pred_unordered_dict = dict(zip(pred_filenames,pred_label_list))\n",
    "pred_unordered_dict"
   ]
  },
  {
   "cell_type": "code",
   "execution_count": 19,
   "metadata": {
    "executionInfo": {
     "elapsed": 256,
     "status": "ok",
     "timestamp": 1638635295516,
     "user": {
      "displayName": "Todd Wong",
      "photoUrl": "https://lh3.googleusercontent.com/a/default-user=s64",
      "userId": "03494286582269224603"
     },
     "user_tz": -480
    },
    "id": "CfbteL7IQypo"
   },
   "outputs": [],
   "source": [
    "df = pd.read_csv('submission.csv')\n",
    "question_list = df['File'].to_list()"
   ]
  },
  {
   "cell_type": "markdown",
   "metadata": {},
   "source": [
    "#### Reordering the sequence of filename according to the submission.csv"
   ]
  },
  {
   "cell_type": "markdown",
   "metadata": {},
   "source": [
    "From the pred folder, there are only 81 images allowed for prediction. However, in the submission.csv, it is required to enter the prediction of 100 image file. For the missing 19 images, i try to find the labelled classes from the training and testing dataframe"
   ]
  },
  {
   "cell_type": "code",
   "execution_count": 20,
   "metadata": {
    "colab": {
     "base_uri": "https://localhost:8080/"
    },
    "executionInfo": {
     "elapsed": 257,
     "status": "ok",
     "timestamp": 1638635299267,
     "user": {
      "displayName": "Todd Wong",
      "photoUrl": "https://lh3.googleusercontent.com/a/default-user=s64",
      "userId": "03494286582269224603"
     },
     "user_tz": -480
    },
    "id": "npkX0RFDRlCO",
    "outputId": "62906d33-4962-49fa-e43c-457476693f7d"
   },
   "outputs": [],
   "source": [
    "pred_ordered_dict = {}\n",
    "for ordered_filename in question_list:\n",
    "    if ordered_filename in  pred_unordered_dict :\n",
    "        pred_ordered_dict[ordered_filename] = pred_unordered_dict[ordered_filename]\n",
    "    elif '17531.jpg' in train_df['filenames'].values:\n",
    "        pred_ordered_dict[ordered_filename] = train_df.loc[train_df['filenames']==ordered_filename]['labels'].tolist()[0]\n",
    "    elif '17531.jpg' in test_df['filenames'].values:\n",
    "        pred_ordered_dict[ordered_filename] = val_df.loc[val_df['filenames']==ordered_filename]['labels'].tolist()[0]\n",
    "    else:\n",
    "        pred_ordered_dict[ordered_filename] = 'null'\n",
    "\n",
    "    "
   ]
  },
  {
   "cell_type": "code",
   "execution_count": 21,
   "metadata": {
    "id": "eG-a5tCLRl2a"
   },
   "outputs": [
    {
     "data": {
      "text/plain": [
       "100"
      ]
     },
     "execution_count": 21,
     "metadata": {},
     "output_type": "execute_result"
    }
   ],
   "source": [
    "len(pred_ordered_dict)"
   ]
  },
  {
   "cell_type": "markdown",
   "metadata": {},
   "source": [
    "#### Answer Concatenation"
   ]
  },
  {
   "cell_type": "code",
   "execution_count": 22,
   "metadata": {},
   "outputs": [],
   "source": [
    "answer_list = [v for k,v in pred_ordered_dict.items()]\n",
    "answer = ''.join(answer_list)"
   ]
  },
  {
   "cell_type": "code",
   "execution_count": 23,
   "metadata": {},
   "outputs": [
    {
     "name": "stdout",
     "output_type": "stream",
     "text": [
      "4011420512040102255224014554113402020043055342144332400254022105135025521220052254551322323522140425\n"
     ]
    }
   ],
   "source": [
    "print(answer)"
   ]
  },
  {
   "cell_type": "markdown",
   "metadata": {},
   "source": [
    "### Summary"
   ]
  },
  {
   "cell_type": "markdown",
   "metadata": {},
   "source": [
    "The accuracy score currently is 0.88% <0.92% (Passing).To improve the accuracy, it can be achieved by tunnning the learning rate to smaller values and adding the convolutional layer. But due to the limitation and unstable service of Google Colab, it cannot be run using their high speed ram. Thus it is the best model I have at this stage."
   ]
  },
  {
   "cell_type": "code",
   "execution_count": null,
   "metadata": {},
   "outputs": [],
   "source": []
  }
 ],
 "metadata": {
  "accelerator": "GPU",
  "colab": {
   "name": "Image Multi Classes Recognition.ipynb",
   "provenance": []
  },
  "kernelspec": {
   "display_name": "Python 3",
   "language": "python",
   "name": "python3"
  },
  "language_info": {
   "codemirror_mode": {
    "name": "ipython",
    "version": 3
   },
   "file_extension": ".py",
   "mimetype": "text/x-python",
   "name": "python",
   "nbconvert_exporter": "python",
   "pygments_lexer": "ipython3",
   "version": "3.8.5"
  }
 },
 "nbformat": 4,
 "nbformat_minor": 1
}
