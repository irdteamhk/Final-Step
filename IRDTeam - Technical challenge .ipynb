{
 "cells": [
  {
   "cell_type": "code",
   "execution_count": 18,
   "metadata": {},
   "outputs": [],
   "source": [
    "# Importing all necessary libraries \n",
    "from keras.preprocessing.image import ImageDataGenerator \n",
    "from keras.models import Sequential \n",
    "from keras.layers import Conv2D, MaxPooling2D \n",
    "from keras.layers import Activation, Dropout, Flatten, Dense \n",
    "from keras import backend as K \n",
    "from keras import preprocessing\n",
    "import os\n",
    "from keras.preprocessing import image\n",
    "\n",
    "import numpy as np\n",
    "  \n",
    "img_width, img_height = 150, 150"
   ]
  },
  {
   "cell_type": "code",
   "execution_count": 54,
   "metadata": {},
   "outputs": [],
   "source": [
    "# Data set up\n",
    "train_data_dir = './train'\n",
    "validation_data_dir = './test'\n",
    "nb_train_samples = 13953\n",
    "nb_validation_samples = 3000\n",
    "epochs = 15\n",
    "batch_size = 150"
   ]
  },
  {
   "cell_type": "code",
   "execution_count": null,
   "metadata": {},
   "outputs": [],
   "source": [
    "# Check format of image\n",
    "if K.image_data_format() == 'channels_first': \n",
    "    input_shape = (3, img_width, img_height) \n",
    "else: \n",
    "    input_shape = (img_width, img_height, 3) "
   ]
  },
  {
   "cell_type": "code",
   "execution_count": null,
   "metadata": {},
   "outputs": [],
   "source": [
    "model = Sequential() \n",
    "model.add(Conv2D(32, (5, 5), input_shape=input_shape, activation=\"relu\") )\n",
    "model.add(MaxPooling2D(pool_size=(2, 2))) \n",
    "  \n",
    "model.add(Conv2D(64, (5, 5), input_shape=input_shape, activation=\"relu\") )\n",
    "model.add(MaxPooling2D(pool_size=(2, 2))) \n",
    "  \n",
    "model.add(Conv2D(128, (5, 5), input_shape=input_shape, activation=\"relu\") )\n",
    "model.add(MaxPooling2D(pool_size=(2, 2))) \n",
    "  \n",
    "model.add(Flatten()) \n",
    "model.add(Dense(256)) \n",
    "model.add(Activation('relu')) \n",
    "model.add(Dropout(0.10)) \n",
    "model.add(Dense(64)) \n",
    "model.add(Activation('relu')) \n",
    "model.add(Dropout(0.10)) \n",
    "model.add(Dense(6)) \n",
    "model.add(Activation('softmax')) "
   ]
  },
  {
   "cell_type": "code",
   "execution_count": null,
   "metadata": {},
   "outputs": [],
   "source": [
    "# Compile Function:\n",
    "model.compile(loss='categorical_crossentropy', \n",
    "              optimizer='rmsprop', \n",
    "              metrics=['accuracy']) "
   ]
  },
  {
   "cell_type": "code",
   "execution_count": 6,
   "metadata": {},
   "outputs": [
    {
     "name": "stdout",
     "output_type": "stream",
     "text": [
      "Found 13953 images belonging to 6 classes.\n",
      "Found 3000 images belonging to 6 classes.\n",
      "WARNING:tensorflow:From /Users/WoodyLi/anaconda3/lib/python3.7/site-packages/tensorflow/python/ops/math_ops.py:3066: to_int32 (from tensorflow.python.ops.math_ops) is deprecated and will be removed in a future version.\n",
      "Instructions for updating:\n",
      "Use tf.cast instead.\n",
      "Epoch 1/15\n",
      "93/93 [==============================] - 824s 9s/step - loss: 1.7027 - accuracy: 0.4019 - val_loss: 1.0580 - val_accuracy: 0.5613\n",
      "Epoch 2/15\n",
      "93/93 [==============================] - 839s 9s/step - loss: 1.2156 - accuracy: 0.5361 - val_loss: 1.0095 - val_accuracy: 0.6483\n",
      "Epoch 3/15\n",
      "93/93 [==============================] - 809s 9s/step - loss: 1.0384 - accuracy: 0.6220 - val_loss: 1.3507 - val_accuracy: 0.5080\n",
      "Epoch 4/15\n",
      "93/93 [==============================] - 817s 9s/step - loss: 0.9093 - accuracy: 0.6674 - val_loss: 1.0900 - val_accuracy: 0.5740\n",
      "Epoch 5/15\n",
      "93/93 [==============================] - 7652s 82s/step - loss: 0.8764 - accuracy: 0.6896 - val_loss: 0.6951 - val_accuracy: 0.7107\n",
      "Epoch 6/15\n",
      "93/93 [==============================] - 10905s 117s/step - loss: 0.8677 - accuracy: 0.7113 - val_loss: 0.6076 - val_accuracy: 0.7760\n",
      "Epoch 7/15\n",
      "93/93 [==============================] - 10171s 109s/step - loss: 0.7029 - accuracy: 0.7477 - val_loss: 0.5147 - val_accuracy: 0.8113\n",
      "Epoch 8/15\n",
      "93/93 [==============================] - 830s 9s/step - loss: 0.6554 - accuracy: 0.7711 - val_loss: 0.7892 - val_accuracy: 0.7990\n",
      "Epoch 9/15\n",
      "93/93 [==============================] - 821s 9s/step - loss: 0.6582 - accuracy: 0.7782 - val_loss: 0.4499 - val_accuracy: 0.7733\n",
      "Epoch 10/15\n",
      "93/93 [==============================] - 820s 9s/step - loss: 0.5822 - accuracy: 0.7943 - val_loss: 0.4447 - val_accuracy: 0.8247\n",
      "Epoch 11/15\n",
      "93/93 [==============================] - 818s 9s/step - loss: 0.5918 - accuracy: 0.8027 - val_loss: 0.3845 - val_accuracy: 0.8367\n",
      "Epoch 12/15\n",
      "93/93 [==============================] - 32237s 347s/step - loss: 0.5305 - accuracy: 0.8141 - val_loss: 0.3313 - val_accuracy: 0.8487\n",
      "Epoch 13/15\n",
      "93/93 [==============================] - 862s 9s/step - loss: 0.5020 - accuracy: 0.8244 - val_loss: 0.5292 - val_accuracy: 0.8317\n",
      "Epoch 14/15\n",
      "93/93 [==============================] - 855s 9s/step - loss: 0.4693 - accuracy: 0.8308 - val_loss: 0.5079 - val_accuracy: 0.8280\n",
      "Epoch 15/15\n",
      "93/93 [==============================] - 938s 10s/step - loss: 0.4361 - accuracy: 0.8455 - val_loss: 0.3777 - val_accuracy: 0.8493\n"
     ]
    },
    {
     "data": {
      "text/plain": [
       "<keras.callbacks.callbacks.History at 0x7fa9a34bbeb8>"
      ]
     },
     "execution_count": 6,
     "metadata": {},
     "output_type": "execute_result"
    }
   ],
   "source": [
    "# Using DataGenerator:\n",
    "train_datagen = ImageDataGenerator( \n",
    "    rescale=1. / 255, \n",
    "    shear_range=0.2, \n",
    "    zoom_range=0.2, \n",
    "    horizontal_flip=True) \n",
    "  \n",
    "test_datagen = ImageDataGenerator(rescale=1. / 255) \n",
    "  \n",
    "train_generator = train_datagen.flow_from_directory( \n",
    "    train_data_dir, \n",
    "    target_size=(img_width, img_height), \n",
    "    batch_size=batch_size, \n",
    "    class_mode='categorical') \n",
    "  \n",
    "validation_generator = test_datagen.flow_from_directory( \n",
    "    validation_data_dir, \n",
    "    target_size=(img_width, img_height), \n",
    "    batch_size=batch_size, \n",
    "    class_mode='categorical') \n",
    "  \n",
    "model.fit_generator( \n",
    "    train_generator, \n",
    "    steps_per_epoch=nb_train_samples // batch_size, \n",
    "    epochs=epochs, \n",
    "    validation_data=validation_generator, \n",
    "    validation_steps=nb_validation_samples // batch_size) "
   ]
  },
  {
   "cell_type": "code",
   "execution_count": 7,
   "metadata": {},
   "outputs": [],
   "source": [
    "model.save_weights('model_saved.h5') "
   ]
  },
  {
   "cell_type": "code",
   "execution_count": 74,
   "metadata": {},
   "outputs": [
    {
     "name": "stdout",
     "output_type": "stream",
     "text": [
      "./pred/17472.jpg\n",
      "./pred/17499.jpg\n",
      "./pred/1743.jpg\n",
      "./pred/1757.jpg\n",
      "./pred/17506.jpg\n",
      "./pred/17498.jpg\n",
      "./pred/17315.jpg\n",
      "./pred/175.jpg\n",
      "./pred/17673.jpg\n",
      "./pred/1741.jpg\n",
      "./pred/174.jpg\n",
      "./pred/17662.jpg\n",
      "./pred/17514.jpg\n",
      "./pred/17515.jpg\n",
      "./pred/17475.jpg\n",
      "./pred/17313.jpg\n",
      "./pred/17305.jpg\n",
      "./pred/17488.jpg\n",
      "./pred/17476.jpg\n",
      "./pred/17411.jpg\n",
      "./pred/17363.jpg\n",
      "./pred/17559.jpg\n",
      "./pred/1735.jpg\n",
      "./pred/17404.jpg\n",
      "./pred/17410.jpg\n",
      "./pred/17374.jpg\n",
      "./pred/17604.jpg\n",
      "./pred/17567.jpg\n",
      "./pred/17605.jpg\n",
      "./pred/17417.jpg\n",
      "./pred/17359.jpg\n",
      "./pred/17600.jpg\n",
      "./pred/17370.jpg\n",
      "./pred/17402.jpg\n",
      "./pred/17364.jpg\n",
      "./pred/17602.jpg\n",
      "./pred/1731.jpg\n",
      "./pred/17575.jpg\n",
      "./pred/1730.jpg\n",
      "./pred/17617.jpg\n",
      "./pred/17429.jpg\n",
      "./pred/17373.jpg\n",
      "./pred/17424.jpg\n",
      "./pred/17381.jpg\n",
      "./pred/17586.jpg\n",
      "./pred/17380.jpg\n",
      "./pred/17394.jpg\n",
      "./pred/17341.jpg\n",
      "./pred/17355.jpg\n",
      "./pred/17625.jpg\n",
      "./pred/17590.jpg\n",
      "./pred/17426.jpg\n",
      "./pred/17368.jpg\n",
      "./pred/17387.jpg\n",
      "./pred/17581.jpg\n",
      "./pred/17594.jpg\n",
      "./pred/17609.jpg\n",
      "./pred/17379.jpg\n",
      "./pred/17435.jpg\n",
      "./pred/17347.jpg\n",
      "./pred/17390.jpg\n",
      "./pred/17384.jpg\n",
      "./pred/1738.jpg\n",
      "./pred/17636.jpg\n",
      "./pred/17385.jpg\n",
      "./pred/17346.jpg\n",
      "./pred/17434.jpg\n",
      "./pred/17719.jpg\n",
      "./pred/17731.jpg\n",
      "./pred/17532.jpg\n",
      "./pred/17526.jpg\n",
      "./pred/1763.jpg\n",
      "./pred/17718.jpg\n",
      "./pred/17687.jpg\n",
      "./pred/17320.jpg\n",
      "./pred/1760.jpg\n",
      "./pred/17486.jpg\n",
      "./pred/17509.jpg\n",
      "./pred/17324.jpg\n",
      "./pred/17494.jpg\n",
      "./pred/17319.jpg\n",
      "[1 2 3 1 1 2 5 1 3 4 4 0 2 1 4 5 5 2 4 4 4 1 5 5 4 5 1 1 0 2 5 1 4 2 2 0 0\n",
      " 0 3 5 3 5 3 0 1 3 5 5 5 1 0 4 5 3 5 0 0 3 3 5 2 3 3 1 3 5 3 0 0 4 4 5 0 0\n",
      " 5 1 1 4 5 1 5]\n"
     ]
    }
   ],
   "source": [
    "images = []\n",
    "for img in os.listdir('./pred'):\n",
    "    img = os.path.join('./pred', img)\n",
    "    print(img)\n",
    "    img = image.load_img(img)\n",
    "    img = image.img_to_array(img)\n",
    "    img = np.expand_dims(img, axis=0)\n",
    "    images.append(img)\n",
    "\n",
    "# stack up images list to pass for prediction\n",
    "images = np.vstack(images)\n",
    "classes = model.predict_classes(images)\n",
    "print(classes)"
   ]
  },
  {
   "cell_type": "code",
   "execution_count": null,
   "metadata": {},
   "outputs": [],
   "source": []
  },
  {
   "cell_type": "code",
   "execution_count": null,
   "metadata": {},
   "outputs": [],
   "source": []
  }
 ],
 "metadata": {
  "kernelspec": {
   "display_name": "Python 3",
   "language": "python",
   "name": "python3"
  },
  "language_info": {
   "codemirror_mode": {
    "name": "ipython",
    "version": 3
   },
   "file_extension": ".py",
   "mimetype": "text/x-python",
   "name": "python",
   "nbconvert_exporter": "python",
   "pygments_lexer": "ipython3",
   "version": "3.7.3"
  }
 },
 "nbformat": 4,
 "nbformat_minor": 2
}
